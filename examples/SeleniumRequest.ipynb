{
 "cells": [
  {
   "cell_type": "code",
   "execution_count": 13,
   "metadata": {},
   "outputs": [],
   "source": [
    "from importlib import import_module\n",
    "from shutil import which\n",
    "\n",
    "from selenium.webdriver.firefox import webdriver"
   ]
  },
  {
   "cell_type": "code",
   "execution_count": null,
   "metadata": {},
   "outputs": [],
   "source": []
  },
  {
   "cell_type": "code",
   "execution_count": 14,
   "metadata": {},
   "outputs": [],
   "source": [
    "defaults = dict(\n",
    "    driver_name=\"Firefox\",\n",
    "    driver_executable_path=which(\"geckodriver\"),\n",
    "    grid_url=None,\n",
    "    command_executor=None,\n",
    "    driver_arguments=[\"-headless\"],\n",
    "    browser_executable_path=None,\n",
    ")"
   ]
  },
  {
   "cell_type": "code",
   "execution_count": 15,
   "metadata": {},
   "outputs": [],
   "source": [
    "driver_name = defaults[\"driver_name\"]\n",
    "webdriver_base_path = f\"selenium.webdriver.{driver_name.lower()}\"\n",
    "\n",
    "if defaults.get(\"grid_url\"):\n",
    "    driver_klass_module = import_module(\"selenium.webdriver.remote.webdriver\")\n",
    "else:\n",
    "    driver_klass_module = import_module(f\"{webdriver_base_path}.webdriver\")\n",
    "\n",
    "driver_klass = getattr(driver_klass_module, \"WebDriver\")\n",
    "\n",
    "driver_options_module = import_module(f\"{webdriver_base_path}.options\")\n",
    "driver_options_klass = getattr(driver_options_module, \"Options\")\n",
    "driver_options = driver_options_klass()\n",
    "\n",
    "if browser_executable_path := defaults.get(\"browser_executable_path\"):\n",
    "    driver_options.binary_location = browser_executable_path\n",
    "\n",
    "for argument in defaults.get(\"driver_arguments\"):\n",
    "    driver_options.add_argument(argument)\n",
    "\n",
    "driver_kwargs = {\"options\": driver_options}\n",
    "\n",
    "if grid_url := defaults.get(\"grid_url\"):\n",
    "    driver_kwargs[\"command_executor\"] = grid_url\n",
    "else:\n",
    "    driver_kwargs[\"executable_path\"] = defaults.get(\"driver_executable_path\")"
   ]
  },
  {
   "cell_type": "code",
   "execution_count": 17,
   "metadata": {},
   "outputs": [
    {
     "name": "stdout",
     "output_type": "stream",
     "text": [
      "\u001b[0;31mInit signature:\u001b[0m\n",
      "\u001b[0mdriver_klass\u001b[0m\u001b[0;34m(\u001b[0m\u001b[0;34m\u001b[0m\n",
      "\u001b[0;34m\u001b[0m    \u001b[0mfirefox_profile\u001b[0m\u001b[0;34m=\u001b[0m\u001b[0;32mNone\u001b[0m\u001b[0;34m,\u001b[0m\u001b[0;34m\u001b[0m\n",
      "\u001b[0;34m\u001b[0m    \u001b[0mfirefox_binary\u001b[0m\u001b[0;34m=\u001b[0m\u001b[0;32mNone\u001b[0m\u001b[0;34m,\u001b[0m\u001b[0;34m\u001b[0m\n",
      "\u001b[0;34m\u001b[0m    \u001b[0mcapabilities\u001b[0m\u001b[0;34m=\u001b[0m\u001b[0;32mNone\u001b[0m\u001b[0;34m,\u001b[0m\u001b[0;34m\u001b[0m\n",
      "\u001b[0;34m\u001b[0m    \u001b[0mproxy\u001b[0m\u001b[0;34m=\u001b[0m\u001b[0;32mNone\u001b[0m\u001b[0;34m,\u001b[0m\u001b[0;34m\u001b[0m\n",
      "\u001b[0;34m\u001b[0m    \u001b[0mexecutable_path\u001b[0m\u001b[0;34m=\u001b[0m\u001b[0;34m'geckodriver'\u001b[0m\u001b[0;34m,\u001b[0m\u001b[0;34m\u001b[0m\n",
      "\u001b[0;34m\u001b[0m    \u001b[0moptions\u001b[0m\u001b[0;34m=\u001b[0m\u001b[0;32mNone\u001b[0m\u001b[0;34m,\u001b[0m\u001b[0;34m\u001b[0m\n",
      "\u001b[0;34m\u001b[0m    \u001b[0mservice_log_path\u001b[0m\u001b[0;34m=\u001b[0m\u001b[0;34m'geckodriver.log'\u001b[0m\u001b[0;34m,\u001b[0m\u001b[0;34m\u001b[0m\n",
      "\u001b[0;34m\u001b[0m    \u001b[0mservice_args\u001b[0m\u001b[0;34m=\u001b[0m\u001b[0;32mNone\u001b[0m\u001b[0;34m,\u001b[0m\u001b[0;34m\u001b[0m\n",
      "\u001b[0;34m\u001b[0m    \u001b[0mservice\u001b[0m\u001b[0;34m=\u001b[0m\u001b[0;32mNone\u001b[0m\u001b[0;34m,\u001b[0m\u001b[0;34m\u001b[0m\n",
      "\u001b[0;34m\u001b[0m    \u001b[0mdesired_capabilities\u001b[0m\u001b[0;34m=\u001b[0m\u001b[0;32mNone\u001b[0m\u001b[0;34m,\u001b[0m\u001b[0;34m\u001b[0m\n",
      "\u001b[0;34m\u001b[0m    \u001b[0mlog_path\u001b[0m\u001b[0;34m=\u001b[0m\u001b[0;32mNone\u001b[0m\u001b[0;34m,\u001b[0m\u001b[0;34m\u001b[0m\n",
      "\u001b[0;34m\u001b[0m    \u001b[0mkeep_alive\u001b[0m\u001b[0;34m=\u001b[0m\u001b[0;32mTrue\u001b[0m\u001b[0;34m,\u001b[0m\u001b[0;34m\u001b[0m\n",
      "\u001b[0;34m\u001b[0m\u001b[0;34m)\u001b[0m\u001b[0;34m\u001b[0m\u001b[0;34m\u001b[0m\u001b[0m\n",
      "\u001b[0;31mDocstring:\u001b[0m     \n",
      "Controls a browser by sending commands to a remote server.\n",
      "This server is expected to be running the WebDriver wire protocol\n",
      "as defined at\n",
      "https://github.com/SeleniumHQ/selenium/wiki/JsonWireProtocol\n",
      "\n",
      ":Attributes:\n",
      " - session_id - String ID of the browser session started and controlled by this WebDriver.\n",
      " - capabilities - Dictionary of effective capabilities of this browser session as returned\n",
      "     by the remote server. See https://github.com/SeleniumHQ/selenium/wiki/DesiredCapabilities\n",
      " - command_executor - remote_connection.RemoteConnection object used to execute commands.\n",
      " - error_handler - errorhandler.ErrorHandler object used to handle errors.\n",
      "\u001b[0;31mInit docstring:\u001b[0m\n",
      "Starts a new local session of Firefox.\n",
      "\n",
      "Based on the combination and specificity of the various keyword\n",
      "arguments, a capabilities dictionary will be constructed that\n",
      "is passed to the remote end.\n",
      "\n",
      "The keyword arguments given to this constructor are helpers to\n",
      "more easily allow Firefox WebDriver sessions to be customised\n",
      "with different options.  They are mapped on to a capabilities\n",
      "dictionary that is passed on to the remote end.\n",
      "\n",
      "As some of the options, such as `firefox_profile` and\n",
      "`options.profile` are mutually exclusive, precedence is\n",
      "given from how specific the setting is.  `capabilities` is the\n",
      "least specific keyword argument, followed by `options`,\n",
      "followed by `firefox_binary` and `firefox_profile`.\n",
      "\n",
      "In practice this means that if `firefox_profile` and\n",
      "`options.profile` are both set, the selected profile\n",
      "instance will always come from the most specific variable.\n",
      "In this case that would be `firefox_profile`.  This will result in\n",
      "`options.profile` to be ignored because it is considered\n",
      "a less specific setting than the top-level `firefox_profile`\n",
      "keyword argument.  Similarly, if you had specified a\n",
      "`capabilities[\"moz:firefoxOptions\"][\"profile\"]` Base64 string,\n",
      "this would rank below `options.profile`.\n",
      "\n",
      ":param firefox_profile: Deprecated: Instance of ``FirefoxProfile`` object\n",
      "    or a string.  If undefined, a fresh profile will be created\n",
      "    in a temporary location on the system.\n",
      ":param firefox_binary: Deprecated: Instance of ``FirefoxBinary`` or full\n",
      "    path to the Firefox binary.  If undefined, the system default\n",
      "    Firefox installation will  be used.\n",
      ":param capabilities: Deprecated: Dictionary of desired capabilities.\n",
      ":param proxy: Deprecated: The proxy settings to use when communicating with\n",
      "    Firefox via the extension connection.\n",
      ":param executable_path: Deprecated: Full path to override which geckodriver\n",
      "    binary to use for Firefox 47.0.1 and greater, which\n",
      "    defaults to picking up the binary from the system path.\n",
      ":param options: Instance of ``options.Options``.\n",
      ":param service: (Optional) service instance for managing the starting and stopping of the driver.\n",
      ":param service_log_path: Deprecated: Where to log information from the driver.\n",
      ":param service_args: Deprecated: List of args to pass to the driver service\n",
      ":param desired_capabilities: Deprecated: alias of capabilities. In future\n",
      "    versions of this library, this will replace 'capabilities'.\n",
      "    This will make the signature consistent with RemoteWebDriver.\n",
      ":param keep_alive: Whether to configure remote_connection.RemoteConnection to use\n",
      "     HTTP keep-alive.\n",
      "\u001b[0;31mFile:\u001b[0m           ~/.virtualenvs/scrapy-selenium-Rb-ayYH9-3.11/lib/python3.11/site-packages/selenium/webdriver/firefox/webdriver.py\n",
      "\u001b[0;31mType:\u001b[0m           ABCMeta\n",
      "\u001b[0;31mSubclasses:\u001b[0m     "
     ]
    }
   ],
   "source": [
    "driver_klass"
   ]
  },
  {
   "cell_type": "code",
   "execution_count": null,
   "metadata": {},
   "outputs": [],
   "source": [
    "options."
   ]
  }
 ],
 "metadata": {
  "kernelspec": {
   "display_name": "scrapy-selenium-Rb-ayYH9-3.11",
   "language": "python",
   "name": "python3"
  },
  "language_info": {
   "codemirror_mode": {
    "name": "ipython",
    "version": 3
   },
   "file_extension": ".py",
   "mimetype": "text/x-python",
   "name": "python",
   "nbconvert_exporter": "python",
   "pygments_lexer": "ipython3",
   "version": "3.11.1"
  },
  "orig_nbformat": 4
 },
 "nbformat": 4,
 "nbformat_minor": 2
}
